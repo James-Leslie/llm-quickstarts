{
 "cells": [
  {
   "cell_type": "code",
   "execution_count": 2,
   "metadata": {},
   "outputs": [
    {
     "data": {
      "text/plain": [
       "True"
      ]
     },
     "execution_count": 2,
     "metadata": {},
     "output_type": "execute_result"
    }
   ],
   "source": [
    "from dotenv import load_dotenv\n",
    "from langchain_openai import ChatOpenAI\n",
    "\n",
    "\n",
    "# make sure you have a .env file in the root directory\n",
    "load_dotenv()"
   ]
  },
  {
   "cell_type": "code",
   "execution_count": 3,
   "metadata": {},
   "outputs": [],
   "source": [
    "llm = ChatOpenAI()\n",
    "\n",
    "# or if you haven't set the API key in the .env file\n",
    "# llm = ChatOpenAI(api_key=\"...\")"
   ]
  },
  {
   "cell_type": "markdown",
   "metadata": {},
   "source": [
    "Once you've installed and initialized the LLM of your choice, we can try using it! Let's ask it what LangSmith is - this is something that wasn't present in the training data so it shouldn't have a very good response."
   ]
  },
  {
   "cell_type": "code",
   "execution_count": 4,
   "metadata": {},
   "outputs": [
    {
     "data": {
      "text/plain": [
       "AIMessage(content='Langsmith can help with testing by providing automated testing tools and frameworks, such as test automation scripts and test management systems. These tools can help streamline the testing process, improve efficiency, and ensure thorough test coverage. Langsmith can also provide expertise in test strategy development, test case design, and test execution to help identify and resolve any issues or bugs in the software. Additionally, Langsmith can assist in setting up continuous integration and continuous deployment pipelines to automate the testing process and ensure rapid feedback on code changes.', response_metadata={'token_usage': {'completion_tokens': 101, 'prompt_tokens': 15, 'total_tokens': 116}, 'model_name': 'gpt-3.5-turbo', 'system_fingerprint': None, 'finish_reason': 'stop', 'logprobs': None}, id='run-9fad1c1c-b1df-4dd4-98a0-95f87b7fda93-0')"
      ]
     },
     "execution_count": 4,
     "metadata": {},
     "output_type": "execute_result"
    }
   ],
   "source": [
    "llm.invoke(\"how can langsmith help with testing?\")"
   ]
  },
  {
   "cell_type": "markdown",
   "metadata": {},
   "source": [
    "We can also guide its response with a prompt template. Prompt templates convert raw user input to better input to the LLM."
   ]
  },
  {
   "cell_type": "code",
   "execution_count": 6,
   "metadata": {},
   "outputs": [],
   "source": [
    "from langchain_core.prompts import ChatPromptTemplate\n",
    "\n",
    "prompt = ChatPromptTemplate.from_messages([\n",
    "    (\"system\", \"You are a world class technical documentation writer.\"),\n",
    "    (\"user\", \"{input}\")\n",
    "])"
   ]
  },
  {
   "cell_type": "markdown",
   "metadata": {},
   "source": [
    "We can now combine these into a simple LLM chain:"
   ]
  },
  {
   "cell_type": "code",
   "execution_count": 7,
   "metadata": {},
   "outputs": [
    {
     "data": {
      "text/plain": [
       "AIMessage(content='Langsmith is a powerful tool that can assist with testing in several ways:\\n\\n1. **Test Automation**: Langsmith can be used to automate testing tasks, such as running test scripts, generating test data, and verifying test results. By automating repetitive testing processes, Langsmith can help improve efficiency and reduce human error.\\n\\n2. **Performance Testing**: Langsmith can be used to simulate large numbers of virtual users accessing a system simultaneously, allowing you to test the performance and scalability of your application under different load conditions.\\n\\n3. **API Testing**: Langsmith can be used to test APIs by sending requests and validating responses. It can help you automate the testing of API endpoints, ensuring that they function correctly and return the expected results.\\n\\n4. **Data Validation**: Langsmith can be used to validate data, ensuring that it meets specific criteria or follows predefined rules. This can be particularly useful for testing data integrity and accuracy.\\n\\n5. **Integration Testing**: Langsmith can help with integration testing by automating the process of sending requests between different components or systems and verifying that they interact correctly.\\n\\nOverall, Langsmith can streamline the testing process, improve test coverage, and help you identify and resolve issues more efficiently.', response_metadata={'token_usage': {'completion_tokens': 241, 'prompt_tokens': 28, 'total_tokens': 269}, 'model_name': 'gpt-3.5-turbo', 'system_fingerprint': None, 'finish_reason': 'stop', 'logprobs': None}, id='run-3f8005fc-716a-4eda-a232-d3f9d5c07357-0')"
      ]
     },
     "execution_count": 7,
     "metadata": {},
     "output_type": "execute_result"
    }
   ],
   "source": [
    "chain = prompt | llm\n",
    "chain.invoke({\"input\": \"how can langsmith help with testing?\"})"
   ]
  },
  {
   "cell_type": "markdown",
   "metadata": {},
   "source": [
    "The output of a ChatModel (and therefore, of this chain) is a message. However, it's often much more convenient to work with strings. Let's add a simple output parser to convert the chat message to a string."
   ]
  },
  {
   "cell_type": "code",
   "execution_count": 8,
   "metadata": {},
   "outputs": [],
   "source": [
    "from langchain_core.output_parsers import StrOutputParser\n",
    "\n",
    "output_parser = StrOutputParser()"
   ]
  },
  {
   "cell_type": "markdown",
   "metadata": {},
   "source": [
    "We can now add this to the previous chain:"
   ]
  },
  {
   "cell_type": "code",
   "execution_count": 9,
   "metadata": {},
   "outputs": [],
   "source": [
    "chain = prompt | llm | output_parser"
   ]
  },
  {
   "cell_type": "markdown",
   "metadata": {},
   "source": [
    "We can now invoke it and ask the same question. The answer will now be a string (rather than a ChatMessage)."
   ]
  },
  {
   "cell_type": "code",
   "execution_count": 11,
   "metadata": {},
   "outputs": [
    {
     "name": "stdout",
     "output_type": "stream",
     "text": [
      "Langsmith can help with testing in various ways by providing automated testing capabilities. Here are some ways Langsmith can assist with testing:\n",
      "\n",
      "1. Test script generation: Langsmith can generate test scripts automatically based on the input provided, reducing the manual effort required for writing test scripts.\n",
      "\n",
      "2. Test data generation: Langsmith can generate test data automatically, ensuring thorough test coverage and reducing the time needed to create test data manually.\n",
      "\n",
      "3. Test execution: Langsmith can execute tests automatically, allowing for efficient and repeatable testing processes.\n",
      "\n",
      "4. Test result analysis: Langsmith can analyze test results and provide insights into test coverage, test execution times, and any issues encountered during testing.\n",
      "\n",
      "5. Integration with CI/CD pipelines: Langsmith can be integrated with continuous integration and continuous deployment pipelines to automate testing as part of the software development process.\n",
      "\n",
      "Overall, Langsmith can streamline the testing process, improve test coverage, and increase the efficiency of testing activities.\n"
     ]
    }
   ],
   "source": [
    "print(chain.invoke({\"input\": \"how can langsmith help with testing?\"}))"
   ]
  }
 ],
 "metadata": {
  "kernelspec": {
   "display_name": "llm",
   "language": "python",
   "name": "python3"
  },
  "language_info": {
   "codemirror_mode": {
    "name": "ipython",
    "version": 3
   },
   "file_extension": ".py",
   "mimetype": "text/x-python",
   "name": "python",
   "nbconvert_exporter": "python",
   "pygments_lexer": "ipython3",
   "version": "3.12.3"
  }
 },
 "nbformat": 4,
 "nbformat_minor": 2
}
